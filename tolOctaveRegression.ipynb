{
 "cells": [
  {
   "cell_type": "code",
   "execution_count": 1,
   "id": "600fe998",
   "metadata": {},
   "outputs": [],
   "source": [
    "pkg load interval"
   ]
  },
  {
   "cell_type": "code",
   "execution_count": 2,
   "id": "0cd61e1c",
   "metadata": {},
   "outputs": [],
   "source": [
    "## Установить пути к функциям построения интервальной регрессии\n",
    "addpath(genpath('./IntLinInc3D'))"
   ]
  },
  {
   "cell_type": "code",
   "execution_count": 3,
   "id": "63ad1604",
   "metadata": {},
   "outputs": [
    {
     "name": "stdout",
     "output_type": "stream",
     "text": [
      "data =\n",
      "\n",
      "   524.7184   449.8347     1.0000\n",
      "   524.6649   450.3703     1.0000\n",
      "   524.6955   450.9845     1.0000\n",
      "   524.5919   451.5050     1.0000\n",
      "   524.4480   452.0100     1.0000\n",
      "   524.3701   452.5758     1.0000\n",
      "   524.1754   453.0266     1.0000\n",
      "   524.6413   449.2005     1.0000\n",
      "   524.6293   448.6458     1.0000\n",
      "   524.5634   448.0835     1.0000\n",
      "   524.3765   447.4401     1.0000\n",
      "   524.2422   446.8537     1.0000\n",
      "   524.0672   446.2562     1.0000\n",
      "   523.8120   445.6137     1.0000\n",
      "   523.5789   445.0013     1.0000\n",
      "\n",
      " \n",
      " Р”РѕРїСѓСЃРєРѕРІРѕРµ РјРЅРѕР¶РµСЃС‚РІРѕ СЂРµС€РµРЅРёР№ РёРЅС‚РµСЂРІР°Р»СЊРЅРѕР№ Р»РёРЅРµР№РЅРѕР№ СЃРёСЃС‚РµРјС‹ РїСѓСЃС‚Рѕ \n",
      " \n",
      "tolmax = -2.1532\n",
      "argmax =\n",
      "\n",
      "  -3.5931e+06\n",
      "  13708\n",
      "  -13.073\n",
      "\n",
      "envs =\n",
      "\n",
      "  12  -2.1532\n",
      "  7  -2.1532\n",
      "  13  -2.1532\n",
      "  3  -2.1532\n",
      "  4  -1.7029\n",
      "  6  -1.6386\n",
      "  11  -1.4823\n",
      "  5  -1.3249\n",
      "  1  -1.2559\n",
      "  2  -1.2231\n",
      "  15  -0.49335\n",
      "  14  -0.48914\n",
      "  10  0.063501\n",
      "  8  0.17369\n",
      "  9  0.83821\n",
      "\n",
      "ccode = 1\n"
     ]
    }
   ],
   "source": [
    "# Чтение координат поворота из файла\n",
    "#data = dlmread(\"gold_turn_00_0_15.txt\", \" \")\n",
    "#data = dlmread(\"gold_turn_00_4_15.txt\", \" \")\n",
    "#data = dlmread(\"gold_turn_00_6_15.txt\", \" \")\n",
    "#data = dlmread(\"gold_turn_01_15_15.txt\", \" \")\n",
    "#data = dlmread(\"gold_turn_02_20_15.txt\", \" \")\n",
    "data = dlmread(\"gold_turn_02_23_15.txt\", \" \")\n",
    "#data = dlmread(\"gold_turn_02_34_15.txt\", \" \")\n",
    "#data = dlmread(\"gold_turn_02_46_15.txt\", \" \")\n",
    "#data = dlmread(\"gold_turn_03_00_15.txt\", \" \")\n",
    "#data = dlmread(\"gold_turn_05_0_15.txt\", \" \")\n",
    "#data = dlmread(\"gold_turn_05_3_15.txt\", \" \")\n",
    "#data = dlmread(\"gold_turn_05_6_15.txt\", \" \")\n",
    "\n",
    "\n",
    "x = data(:,1);                             # координата поворота по х\n",
    "y = data(:,2);                             # координата поворота по у\n",
    "eps = data(:,3);                           # верхняя граница ошибки для y_i\n",
    "\n",
    "# x^2 + x^1 + x^0\n",
    "X_up = [ x.^0 x x.^2 ];       \n",
    "X_down = [ x.^0 x x.^2 ]; \n",
    "\n",
    "y_up = [y+eps];\n",
    "y_down = [y-eps];\n",
    "\n",
    "[tolmax, argmax, envs, ccode] = tolsolvty(X_down,X_up,y_down,y_up)"
   ]
  },
  {
   "cell_type": "code",
   "execution_count": null,
   "id": "840b09fc",
   "metadata": {},
   "outputs": [],
   "source": []
  }
 ],
 "metadata": {
  "kernelspec": {
   "display_name": "Octave",
   "language": "octave",
   "name": "octave"
  },
  "language_info": {
   "file_extension": ".m",
   "help_links": [
    {
     "text": "GNU Octave",
     "url": "https://www.gnu.org/software/octave/support.html"
    },
    {
     "text": "Octave Kernel",
     "url": "https://github.com/Calysto/octave_kernel"
    },
    {
     "text": "MetaKernel Magics",
     "url": "https://metakernel.readthedocs.io/en/latest/source/README.html"
    }
   ],
   "mimetype": "text/x-octave",
   "name": "octave",
   "version": "5.2.0"
  }
 },
 "nbformat": 4,
 "nbformat_minor": 5
}

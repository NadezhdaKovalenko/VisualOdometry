{
 "cells": [
  {
   "cell_type": "code",
   "execution_count": 1,
   "id": "225832ce",
   "metadata": {},
   "outputs": [],
   "source": [
    "import numpy as np\n",
    "import matplotlib.pyplot as plt\n",
    "\n",
    "import operator\n",
    "from sklearn.metrics import mean_squared_error, r2_score\n",
    "from sklearn.preprocessing import PolynomialFeatures\n",
    "from sklearn.linear_model import LinearRegression\n",
    "\n",
    "from sklearn.metrics import mean_squared_error\n",
    "from sklearn.metrics import mean_absolute_error as mae\n",
    "\n",
    "from math import sqrt"
   ]
  },
  {
   "cell_type": "code",
   "execution_count": 2,
   "id": "b456a940",
   "metadata": {},
   "outputs": [],
   "source": [
    "# Считывание данных\n",
    "def readData(fileName, sort):\n",
    "    dataX = []\n",
    "    dataY = []\n",
    "    dataEps = []\n",
    "    \n",
    "    f = open(fileName, 'r')\n",
    "    \n",
    "    # считываем все строки\n",
    "    lines = f.readlines()\n",
    "\n",
    "    # итерация по строкам\n",
    "    for line in lines:\n",
    "        oneLine = line.split()\n",
    "        dataX.append(float(oneLine[0]))\n",
    "        dataY.append(float(oneLine[1]))\n",
    "        dataEps.append(float(oneLine[2]))\n",
    "    \n",
    "    f.close()\n",
    "    \n",
    "    if sort == True:\n",
    "        # сортировка x(i) < x(i+1) < x(i+2) < ... < x(n)\n",
    "        dataXnotSort = dataX.copy()\n",
    "        dataX.sort()\n",
    "        dataYnotSort = dataY.copy()\n",
    "        dataEpsnotSort = dataEps.copy()\n",
    "        \n",
    "        for i in range(len(dataX)):\n",
    "            for j in range(len(dataXnotSort)):\n",
    "                if dataX[i] == dataXnotSort[j]:\n",
    "                    dataY[i] = dataYnotSort[j]\n",
    "                    dataEps[i] = dataEpsnotSort[j]\n",
    "                \n",
    "    #print(dataX)\n",
    "    #print(dataY)\n",
    "    #print(dataEps)\n",
    "    \n",
    "    return dataX,dataY,dataEps"
   ]
  },
  {
   "cell_type": "code",
   "execution_count": 3,
   "id": "f87bf09d",
   "metadata": {},
   "outputs": [],
   "source": [
    "def findArrayMax(array):\n",
    "    return max(array)"
   ]
  },
  {
   "cell_type": "code",
   "execution_count": 4,
   "id": "3fa4e379",
   "metadata": {},
   "outputs": [],
   "source": [
    "def findBoundariesUncertainty(y, eps):\n",
    "    h_up = []\n",
    "    h_down = []\n",
    "    \n",
    "    deltaMax = findArrayMax(eps)\n",
    "    \n",
    "    for i in range(len(y)):\n",
    "        h_up.append(y[i] + deltaMax)\n",
    "        h_down.append(y[i] - deltaMax)\n",
    "    \n",
    "    return h_down, h_up"
   ]
  },
  {
   "cell_type": "code",
   "execution_count": 5,
   "id": "f7398aa0",
   "metadata": {},
   "outputs": [],
   "source": [
    "def findI_c(dataX, dataY, h_up, h_down):\n",
    "    # second parametr = 0 - ok, 1 - error\n",
    "    c_up = []\n",
    "    c_down = []\n",
    "    \n",
    "    N = len(dataX)\n",
    "    \n",
    "    #for i in range(0, N - 3):\n",
    "    #    j = i+1\n",
    "    #    k = j+1\n",
    "        #for j in range(i + 1, N - 2):\n",
    "            #for k in range(j + 1, N - 1):\n",
    "    #    first = dataY[i]/(dataX[k]-dataX[i])\n",
    "    #    second = dataY[j]/(dataX[k]-dataX[j])\n",
    "    #    third = dataY[k]*(dataX[j]-dataX[i])/((dataX[k]-dataX[j])*(dataX[k]-dataX[i]))\n",
    "    #    c.append((first - second + third)/(dataX[j] - dataX[i]))  \n",
    "    \n",
    "    for i in range(0, N - 3):\n",
    "        for j in range(i + 1, N - 2):\n",
    "            for k in range(j + 1, N - 1):\n",
    "                first = h_down[i]/(dataX[k]-dataX[i])\n",
    "                second = h_up[j]/(dataX[k]-dataX[j])\n",
    "                third = h_down[k]*(dataX[j]-dataX[i])/((dataX[k]-dataX[j])*(dataX[k]-dataX[i]))\n",
    "                \n",
    "                c_down.append((first - second + third)/(dataX[j]-dataX[i]))\n",
    "                          \n",
    "    for i in range(0, N - 3):\n",
    "        for j in range(i + 1, N - 2):\n",
    "            for k in range(j + 1, N - 1):\n",
    "                first = h_up[i]/(dataX[k]-dataX[i])\n",
    "                second = h_down[j]/(dataX[k]-dataX[j])\n",
    "                third = h_up[k]*(dataX[j]-dataX[i])/((dataX[k]-dataX[j])*(dataX[k]-dataX[i]))\n",
    "                \n",
    "                c_up.append((first - second + third)/(dataX[j]-dataX[i]))\n",
    "        \n",
    "    c_min = max(c_down)\n",
    "    #print(c_min)\n",
    "    c_max = min(c_up)\n",
    "    #print(c_max)\n",
    "    \n",
    "    if c_min > c_max:\n",
    "        print(\"the system is inconsistent\")\n",
    "        return 0.0, 0.0, 1\n",
    "    elif c_min == c_max:\n",
    "        print(\"min == max\\n one point\")    \n",
    "    else:\n",
    "        print(\"system correct\")\n",
    "        \n",
    "    return c_min, c_max, 0"
   ]
  },
  {
   "cell_type": "code",
   "execution_count": 6,
   "id": "1a624997",
   "metadata": {},
   "outputs": [],
   "source": [
    "def findI_a(dataX, dataY, h_up, h_down):\n",
    "    \n",
    "    a_up = []\n",
    "    a_down = []\n",
    "    \n",
    "    N = len(dataX)\n",
    "    \n",
    "    for i in range(0, N - 3):\n",
    "        for j in range(i + 1, N - 2):\n",
    "            for k in range(j + 1, N - 1):\n",
    "                first = (dataX[i] + dataX[k]) * (dataX[j] + dataX[k]) / (dataX[j] - dataX[i])\n",
    "                second = (-h_up[i])/(dataX[k] * dataX[k] - dataX[i] * dataX[i])\n",
    "                third = (h_down[j])/(dataX[k] * dataX[k] - dataX[j] * dataX[j])\n",
    "                four = ((h_up[k])*(dataX[j]*dataX[j] - dataX[i] * dataX[i]))/((dataX[k] * dataX[k] - dataX[i] * dataX[i])*(dataX[k] * dataX[k] - dataX[j] * dataX[j]))\n",
    "        \n",
    "                a_down.append(first*(second + third - four))\n",
    "        \n",
    "    for i in range(0, N - 3):\n",
    "        for j in range(i + 1, N - 2):\n",
    "            for k in range(j + 1, N - 1):\n",
    "                first = (dataX[i] + dataX[k]) * (dataX[j] + dataX[k]) / (dataX[j] - dataX[i])\n",
    "                second = (-h_down[i])/(dataX[k] * dataX[k] - dataX[i] * dataX[i])\n",
    "                third = (h_up[j])/(dataX[k] * dataX[k] - dataX[j] * dataX[j])\n",
    "                four = ((h_down[k])*(dataX[j]*dataX[j] - dataX[i] * dataX[i]))/((dataX[k] * dataX[k] - dataX[i] * dataX[i])*(dataX[k] * dataX[k] - dataX[j] * dataX[j]))\n",
    "        \n",
    "                a_up.append(first*(second + third - four))\n",
    "        \n",
    "    a_min = max(a_down)\n",
    "    #print(a_min)\n",
    "    a_max = min(a_up)\n",
    "    #print(a_max)\n",
    "    \n",
    "    if a_min > a_max:\n",
    "        print(\"the system is inconsistent\")\n",
    "        return 0.0, 0.0, 1\n",
    "    elif a_min == a_max:\n",
    "        print(\"min == max\\n one point\")\n",
    "    else:\n",
    "        print(\"system correct\")\n",
    "        \n",
    "    return a_min, a_max, 0"
   ]
  },
  {
   "cell_type": "code",
   "execution_count": 7,
   "id": "012ef579",
   "metadata": {},
   "outputs": [],
   "source": [
    "def findI_b(dataX, dataY, h_up, h_down):\n",
    "    \n",
    "    b_up = []\n",
    "    b_down = []\n",
    "    \n",
    "    N = len(dataX)\n",
    "    \n",
    "    for i in range(0, N - 3):\n",
    "        for j in range(i + 1, N - 2):\n",
    "            for k in range(j + 1, N - 1):\n",
    "                \n",
    "                if dataX[i] == 0:\n",
    "                    b_down.append(h_down[0])\n",
    "                else:\n",
    "                    first = (dataX[k] * dataX[j] * dataX[i]) / (dataX[j] - dataX[i])\n",
    "                    second = h_down[i] / (dataX[i] * (dataX[k] - dataX[i]))\n",
    "                    third = h_up[j] / (dataX[j] * (dataX[k] - dataX[j]))\n",
    "                    four = (h_down[k] * (dataX[j] - dataX[i])) / (dataX[k] * (dataX[k] - dataX[j]) * (dataX[k] - dataX[i]))\n",
    "                    b_down.append((first * (second - third + four)))\n",
    "                    \n",
    "    for i in range(0, N - 3):\n",
    "        for j in range(i + 1, N - 2):\n",
    "            for k in range(j + 1, N - 1):  \n",
    "\n",
    "                if dataX[i] == 0:\n",
    "                    b_up.append(h_up[0])\n",
    "                else:\n",
    "                    first = (dataX[k] * dataX[j] * dataX[i]) / (dataX[j] - dataX[i])\n",
    "                    second = h_up[i] / (dataX[i] * (dataX[k] - dataX[i]))\n",
    "                    third = h_down[j] / (dataX[j] * (dataX[k] - dataX[j]))\n",
    "                    four = (h_up[k] * (dataX[j] - dataX[i])) / (dataX[k] * (dataX[k] - dataX[j]) * (dataX[k] - dataX[i]))\n",
    "                    b_up.append((first * (second - third + four)))\n",
    "    \n",
    "    \n",
    "    b_min = max(b_down)\n",
    "    #print(b_min)\n",
    "    b_max = min(b_up)\n",
    "    #print(b_max)\n",
    "    \n",
    "    if b_min > b_max:\n",
    "        print(\"the system is inconsistent\")\n",
    "        return 0.0, 0.0, 1\n",
    "    elif b_min == b_max:\n",
    "        print(\"min == max\\n one point\")    \n",
    "    else:\n",
    "        print(\"system correct\")\n",
    "        \n",
    "    return b_min, b_max, 0"
   ]
  },
  {
   "cell_type": "code",
   "execution_count": 8,
   "id": "b53f0666",
   "metadata": {},
   "outputs": [],
   "source": [
    "def check(dataX, dataY, h_up, h_down, beta0, beta1, beta2):\n",
    "    correct = 0\n",
    "    norms = [0] * len(dataX)\n",
    "    \n",
    "    for i in range(len(dataX)):\n",
    "        result = beta2 * dataX[i] * dataX[i] + beta1 * dataX[i] + beta0\n",
    "        \n",
    "        norms[i] = (result - dataY[i]) * (result - dataY[i])\n",
    "        \n",
    "        if h_down[i] <= result and result <= h_up[i]:\n",
    "            #print(str(h_down[i]) + \" <= \" + str(result) + \" <= \" + str(h_up[i]))  \n",
    "            #print(\"OK\")\n",
    "            correct += 1\n",
    "    \n",
    "    return correct, sqrt(sum(norms))"
   ]
  },
  {
   "cell_type": "code",
   "execution_count": 9,
   "id": "be06710f",
   "metadata": {},
   "outputs": [],
   "source": [
    "def MNK(dataX, dataY):\n",
    "    np.random.seed(0)\n",
    "    \n",
    "    dataX = np.asarray(dataX)\n",
    "    dataY = np.asarray(dataY)\n",
    "\n",
    "    # transforming the data to include another axis\n",
    "    x = dataX[:, np.newaxis]\n",
    "    y = dataY[:, np.newaxis]\n",
    "    \n",
    "    polynomial_features= PolynomialFeatures(degree=2)\n",
    "    x_poly = polynomial_features.fit_transform(x)\n",
    "\n",
    "    #modelOne = LinearRegression()\n",
    "    #modelOne.fit(x_poly, y)\n",
    "    #print(modelOne.coef_)\n",
    "    #coef = modelOne.coef_\n",
    "    #print(\"Coef model 1 = \" + str(coef))\n",
    "    #print(\"Intercept model 1 = \" + str(modelOne.intercept_))\n",
    "    \n",
    "    \n",
    "    modelTwo = LinearRegression(fit_intercept=False)\n",
    "    modelTwo.fit(x_poly, y)\n",
    "    #print(modelTwo.coef_)\n",
    "    coef = modelTwo.coef_\n",
    "    #print(\"Coef model 2 = \" + str(coef))\n",
    "    #print(\"Intercept model 2 = \" + str(modelTwo.intercept_))\n",
    "    \n",
    "    #y_poly_pred = modelTwo.predict(x_poly)\n",
    "\n",
    "    #rmse = np.sqrt(mean_squared_error(y,y_poly_pred))\n",
    "    #r2 = r2_score(y,y_poly_pred)\n",
    "    #print(rmse)\n",
    "    #print(r2)\n",
    "    \n",
    "    #plt.scatter(x, y, s=10)\n",
    "    # sort the values of x before line plot\n",
    "    #sort_axis = operator.itemgetter(0)\n",
    "    #sorted_zip = sorted(zip(x,y_poly_pred), key=sort_axis)\n",
    "    #x, y_poly_pred = zip(*sorted_zip)\n",
    "    #plt.plot(x, y_poly_pred, color='m')\n",
    "    #plt.show()\n",
    "    \n",
    "    return coef"
   ]
  },
  {
   "cell_type": "code",
   "execution_count": 10,
   "id": "5d2d1c10",
   "metadata": {},
   "outputs": [],
   "source": [
    "def MSE(dataY, dataNewY):\n",
    "    # Calculation of Mean Squared Error (MSE)\n",
    "    return mean_squared_error(dataY, dataNewY)"
   ]
  },
  {
   "cell_type": "code",
   "execution_count": 11,
   "id": "6c03b60b",
   "metadata": {},
   "outputs": [],
   "source": [
    "def MAE(dataY, dataNewY):\n",
    "    #calculate MAE\n",
    "    return mae(dataY, dataNewY)"
   ]
  },
  {
   "cell_type": "code",
   "execution_count": 30,
   "id": "028b3c1e",
   "metadata": {},
   "outputs": [],
   "source": [
    "def showResult(dataX, dataY, beta0, beta1, beta2, h_up, h_down):\n",
    "    fig1, ax1 = plt.subplots()\n",
    "    ax1.scatter(dataX, dataY)\n",
    "    #  Добавляем подписи к осям:\n",
    "    ax1.set_xlabel('x')\n",
    "    ax1.set_ylabel('y')\n",
    "    plt.show()\n",
    "    \n",
    "    minX = min(dataX)\n",
    "    maxX = max(dataX)\n",
    "    \n",
    "    y = lambda x: beta0 + beta1 * x + beta2 * x * x\n",
    "    x = np.linspace(minX, maxX, 100)\n",
    "    \n",
    "    numberStep = 10\n",
    "    \n",
    "    fig2, ax2 = plt.subplots()\n",
    "    \n",
    "    for i in range(len(dataX)):\n",
    "        box_x = [dataX[i] for k in range(numberStep)]\n",
    "        box_y = []\n",
    "        \n",
    "        box_y.append(h_down[i])\n",
    "        step = abs((abs(h_up[i]) - abs(h_down[i])) / (numberStep - 1))\n",
    "        \n",
    "        for j in range(numberStep - 1):\n",
    "            box_y.append(box_y[len(box_y) - 1] + step)\n",
    "        \n",
    "        #print(\"step = \" + str(step))\n",
    "        #print(box_x)\n",
    "        #print(box_y)\n",
    "        #print(h_up[i])\n",
    "        #print(h_down[i])\n",
    "        #print(\"###\")\n",
    "        ax2.plot(box_x, box_y, 'b')\n",
    "    \n",
    "    ax2.plot(x, y(x), 'k')\n",
    "    ax2.scatter(dataX, dataY)\n",
    "    #  Добавляем подписи к осям:\n",
    "    ax2.set_xlabel('x')\n",
    "    ax2.set_ylabel('y')\n",
    "    plt.show()"
   ]
  },
  {
   "cell_type": "code",
   "execution_count": 13,
   "id": "cc6c95b8",
   "metadata": {},
   "outputs": [],
   "source": [
    "def findResultY(x, beta0, beta1, beta2):\n",
    "    res = []\n",
    "    \n",
    "    for i in range(len(x)):\n",
    "        res.append(beta0 + beta1 * x[i] + beta2 * x[i] * x[i])\n",
    "    \n",
    "    return res"
   ]
  },
  {
   "cell_type": "code",
   "execution_count": 14,
   "id": "ff4ad0e5",
   "metadata": {},
   "outputs": [],
   "source": [
    "def modifyX(dataX):\n",
    "    result = []\n",
    "    \n",
    "    for i in range(len(dataX)):\n",
    "        result.append(dataX[i] - dataX[0])\n",
    "        \n",
    "    #print(dataX)\n",
    "    #print(result)\n",
    "    \n",
    "    return result"
   ]
  },
  {
   "cell_type": "code",
   "execution_count": 15,
   "id": "8674a35b",
   "metadata": {},
   "outputs": [],
   "source": [
    "def findAllCoeff(dataX, dataY, h_up, h_down):\n",
    "    error = 0\n",
    "    \n",
    "    # C beta2\n",
    "    Ic_down, Ic_up, I_error = findI_c(dataX, dataY, h_up, h_down)\n",
    "    \n",
    "    if I_error == 1:\n",
    "        return 0.0, 0.0, 0.0, 1\n",
    "    \n",
    "    ## Вычисляем центральную оценку\n",
    "    res_C = (Ic_up + Ic_down) / 2\n",
    "    #print(res_C)\n",
    "    ## Вычисляем максимальное отклонение\n",
    "    deltaC = (Ic_up - Ic_down)/2\n",
    "    #print(deltaC)\n",
    "    \n",
    "    # A beta1\n",
    "    Ia_down, Ia_up, I_error = findI_a(dataX, dataY, h_up, h_down)\n",
    "    \n",
    "    if I_error == 1:\n",
    "        return 0.0, 0.0, 0.0, 1\n",
    "    \n",
    "    ## Вычисляем центральную оценку\n",
    "    aa = (Ia_up + Ia_down) / 2\n",
    "    #print(aa)\n",
    "    ## Вычисляем максимальное отклонение\n",
    "    deltaA = (Ia_up - Ia_down) / 2\n",
    "    #print(deltaA)\n",
    "    \n",
    "    # b beta0\n",
    "    Ib_down, Ib_up, I_error = findI_b(offsetDataX, dataY, h_up, h_down)\n",
    "    \n",
    "    if I_error == 1:\n",
    "        return 0.0, 0.0, 0.0, 1\n",
    "\n",
    "    ## Вычисляем центральную оценку\n",
    "    bb = (Ib_up + Ib_down) / 2\n",
    "    #print(bb)\n",
    "    ## Вычисляем максимальное отклонение\n",
    "    deltaB = (Ib_up - Ib_down)/2\n",
    "    #print(deltaB)\n",
    "    \n",
    "    return bb, aa, res_C, error"
   ]
  },
  {
   "cell_type": "code",
   "execution_count": 16,
   "id": "135995e1",
   "metadata": {},
   "outputs": [
    {
     "name": "stdout",
     "output_type": "stream",
     "text": [
      "[83.00846, 83.45454, 83.8853, 84.31338, 84.72869, 85.1182, 85.50171, 85.85373, 86.20001, 86.52588, 86.8121, 87.09558, 87.34503, 87.59401, 87.8201]\n",
      "[-5.163543, -5.10562, -5.02956, -4.934649, -4.817297, -4.680938, -4.519193, -4.336344, -4.130089, -3.903866, -3.65638, -3.393066, -3.115393, -2.817803, -2.508137]\n",
      "[0.0, 0.4460799999999949, 0.8768400000000014, 1.3049199999999956, 1.7202300000000008, 2.109740000000002, 2.4932500000000033, 2.8452699999999993, 3.1915500000000065, 3.5174200000000013, 3.8036400000000015, 4.087119999999999, 4.336569999999995, 4.585549999999998, 4.811639999999997]\n"
     ]
    }
   ],
   "source": [
    "#dataX, dataY, dataEps = readData(\"gold_turn_00_0_4.txt\")\n",
    "dataX, dataY, dataEps = readData(\"gold_turn_00_0_15.txt\",True)\n",
    "#dataX, dataY, dataEps = readData(\"test.txt\")\n",
    "print(dataX)\n",
    "print(dataY)\n",
    "offsetDataX = modifyX(dataX)\n",
    "print(offsetDataX)"
   ]
  },
  {
   "cell_type": "code",
   "execution_count": 17,
   "id": "cafeeca7",
   "metadata": {},
   "outputs": [
    {
     "name": "stdout",
     "output_type": "stream",
     "text": [
      "[-5.163543, -5.10562, -5.02956, -4.934649, -4.817297, -4.680938, -4.519193, -4.336344, -4.130089, -3.903866, -3.65638, -3.393066, -3.115393, -2.817803, -2.508137]\n",
      "[1.0, 1.0, 1.0, 1.0, 1.0, 1.0, 1.0, 1.0, 1.0, 1.0, 1.0, 1.0, 1.0, 1.0, 1.0]\n",
      "[-4.163543, -4.10562, -4.02956, -3.9346490000000003, -3.817297, -3.6809380000000003, -3.5191929999999996, -3.3363440000000004, -3.130089, -2.903866, -2.65638, -2.393066, -2.115393, -1.817803, -1.508137]\n",
      "[-6.163543, -6.10562, -6.02956, -5.934649, -5.817297, -5.680938, -5.519193, -5.336344, -5.130089, -4.903866, -4.65638, -4.393066, -4.115393, -3.817803, -3.508137]\n"
     ]
    }
   ],
   "source": [
    "h_down, h_up = findBoundariesUncertainty(dataY, dataEps)\n",
    "\n",
    "print(dataY)\n",
    "print(dataEps)\n",
    "\n",
    "print(h_up)\n",
    "print(h_down)"
   ]
  },
  {
   "cell_type": "markdown",
   "id": "9e90c86e",
   "metadata": {},
   "source": [
    "### Первичный анализ. Оценка безусловных интервалов действительных значений параметров."
   ]
  },
  {
   "cell_type": "code",
   "execution_count": 18,
   "id": "b8f027bf",
   "metadata": {},
   "outputs": [
    {
     "name": "stdout",
     "output_type": "stream",
     "text": [
      "system correct\n"
     ]
    }
   ],
   "source": [
    "# c\n",
    "Ic_down, Ic_up, Ic_error = findI_c(offsetDataX, dataY, h_up, h_down)"
   ]
  },
  {
   "cell_type": "code",
   "execution_count": 19,
   "id": "18602033",
   "metadata": {},
   "outputs": [
    {
     "name": "stdout",
     "output_type": "stream",
     "text": [
      "0.11735374950272665\n",
      "0.37976985426809956\n"
     ]
    }
   ],
   "source": [
    "## Вычисляем центральную оценку\n",
    "res_C = (Ic_up + Ic_down) / 2\n",
    "print(res_C)\n",
    "## Вычисляем максимальное отклонение\n",
    "deltaC = (Ic_up - Ic_down)/2\n",
    "print(deltaC)"
   ]
  },
  {
   "cell_type": "code",
   "execution_count": 20,
   "id": "86e18c03",
   "metadata": {},
   "outputs": [
    {
     "name": "stdout",
     "output_type": "stream",
     "text": [
      "system correct\n"
     ]
    }
   ],
   "source": [
    "# a\n",
    "Ia_down, Ia_up, Ia_error = findI_a(offsetDataX, dataY, h_up, h_down)"
   ]
  },
  {
   "cell_type": "code",
   "execution_count": 21,
   "id": "0df50304",
   "metadata": {},
   "outputs": [
    {
     "name": "stdout",
     "output_type": "stream",
     "text": [
      "-0.026581072232356284\n",
      "1.7414536552390836\n"
     ]
    }
   ],
   "source": [
    "## Вычисляем центральную оценку\n",
    "aa = (Ia_up + Ia_down) / 2\n",
    "print(aa)\n",
    "## Вычисляем максимальное отклонение\n",
    "deltaA = (Ia_up - Ia_down) / 2\n",
    "print(deltaA)"
   ]
  },
  {
   "cell_type": "code",
   "execution_count": 22,
   "id": "5ea6b78f",
   "metadata": {},
   "outputs": [
    {
     "name": "stdout",
     "output_type": "stream",
     "text": [
      "system correct\n"
     ]
    }
   ],
   "source": [
    "# b\n",
    "Ib_down, Ib_up, Ib_error = findI_b(offsetDataX, dataY, h_up, h_down)"
   ]
  },
  {
   "cell_type": "code",
   "execution_count": 23,
   "id": "defa3eb6",
   "metadata": {},
   "outputs": [
    {
     "name": "stdout",
     "output_type": "stream",
     "text": [
      "-5.163543\n",
      "1.0\n"
     ]
    }
   ],
   "source": [
    "## Вычисляем центральную оценку\n",
    "bb = (Ib_up + Ib_down) / 2\n",
    "print(bb)\n",
    "## Вычисляем максимальное отклонение\n",
    "deltaB = (Ib_up - Ib_down)/2\n",
    "print(deltaB)"
   ]
  },
  {
   "cell_type": "code",
   "execution_count": 24,
   "id": "d56b54b3",
   "metadata": {},
   "outputs": [
    {
     "name": "stdout",
     "output_type": "stream",
     "text": [
      "system correct\n",
      "system correct\n",
      "system correct\n"
     ]
    }
   ],
   "source": [
    "beta0, beta1,beta2, error = findAllCoeff(offsetDataX, dataY, h_up, h_down)"
   ]
  },
  {
   "cell_type": "code",
   "execution_count": 25,
   "id": "ddafd243",
   "metadata": {},
   "outputs": [
    {
     "data": {
      "text/plain": [
       "(15, 0.22842101078466634)"
      ]
     },
     "execution_count": 25,
     "metadata": {},
     "output_type": "execute_result"
    }
   ],
   "source": [
    "check(offsetDataX, dataY, h_up, h_down, beta0, beta1,beta2)"
   ]
  },
  {
   "cell_type": "code",
   "execution_count": 26,
   "id": "e8a7ca30",
   "metadata": {},
   "outputs": [
    {
     "data": {
      "image/png": "[encoded data removed]",
      "text/plain": [
       "<Figure size 432x288 with 1 Axes>"
      ]
     },
     "metadata": {
      "needs_background": "light"
     },
     "output_type": "display_data"
    },
    {
     "data": {
      "image/png": "[encoded data removed]",
      "text/plain": [
       "<Figure size 432x288 with 1 Axes>"
      ]
     },
     "metadata": {
      "needs_background": "light"
     },
     "output_type": "display_data"
    },
    {
     "name": "stdout",
     "output_type": "stream",
     "text": [
      "[-5.163543, -5.10562, -5.02956, -4.934649, -4.817297, -4.680938, -4.519193, -4.336344, -4.130089, -3.903866, -3.65638, -3.393066, -3.115393, -2.817803, -2.508137]\n"
     ]
    }
   ],
   "source": [
    "showResult(offsetDataX, dataY, beta0, beta1, beta2, h_up, h_down)\n",
    "print(dataY)"
   ]
  },
  {
   "cell_type": "code",
   "execution_count": 27,
   "id": "5f749bc8",
   "metadata": {
    "scrolled": true
   },
   "outputs": [
    {
     "name": "stdout",
     "output_type": "stream",
     "text": [
      "Beta0 = 872.7788717161077\n",
      "Beta1 = -21.061387491294827\n",
      "Beta2 = 0.12632144310129886\n"
     ]
    }
   ],
   "source": [
    "coef = MNK(dataX, dataY)\n",
    "coef = list(coef)\n",
    "print(\"Beta0 = \" + str(coef[0][0]))\n",
    "print(\"Beta1 = \" + str(coef[0][1]))\n",
    "print(\"Beta2 = \" + str(coef[0][2]))"
   ]
  },
  {
   "cell_type": "code",
   "execution_count": 28,
   "id": "2911e773",
   "metadata": {},
   "outputs": [
    {
     "data": {
      "text/plain": [
       "(15, 0.18434712147651328)"
      ]
     },
     "execution_count": 28,
     "metadata": {},
     "output_type": "execute_result"
    }
   ],
   "source": [
    "check(dataX, dataY, h_up, h_down, coef[0][0], coef[0][1], coef[0][2])"
   ]
  },
  {
   "cell_type": "code",
   "execution_count": 29,
   "id": "d88acf63",
   "metadata": {},
   "outputs": [
    {
     "data": {
      "image/png": "[encoded data removed]",
      "text/plain": [
       "<Figure size 432x288 with 1 Axes>"
      ]
     },
     "metadata": {
      "needs_background": "light"
     },
     "output_type": "display_data"
    },
    {
     "data": {
      "image/png": "[encoded data removed]",
      "text/plain": [
       "<Figure size 432x288 with 1 Axes>"
      ]
     },
     "metadata": {
      "needs_background": "light"
     },
     "output_type": "display_data"
    }
   ],
   "source": [
    "showResult(dataX, dataY, coef[0][0], coef[0][1], coef[0][2], h_up, h_down)"
   ]
  },
  {
   "cell_type": "code",
   "execution_count": 30,
   "id": "8c92ca78",
   "metadata": {},
   "outputs": [
    {
     "data": {
      "text/plain": [
       "0.0022655907464450894"
      ]
     },
     "execution_count": 30,
     "metadata": {},
     "output_type": "execute_result"
    }
   ],
   "source": [
    "MSE(dataY, findResultY(dataX, coef[0][0], coef[0][1], coef[0][2]))"
   ]
  },
  {
   "cell_type": "code",
   "execution_count": 31,
   "id": "19f91bcc",
   "metadata": {},
   "outputs": [
    {
     "data": {
      "text/plain": [
       "0.0034784105445259026"
      ]
     },
     "execution_count": 31,
     "metadata": {},
     "output_type": "execute_result"
    }
   ],
   "source": [
    "MSE(dataY, findResultY(offsetDataX, beta0, beta1,beta2))"
   ]
  },
  {
   "cell_type": "code",
   "execution_count": 32,
   "id": "49ed9a30",
   "metadata": {},
   "outputs": [
    {
     "data": {
      "text/plain": [
       "0.041041322560630505"
      ]
     },
     "execution_count": 32,
     "metadata": {},
     "output_type": "execute_result"
    }
   ],
   "source": [
    "MAE(dataY, findResultY(dataX, coef[0][0], coef[0][1], coef[0][2]))"
   ]
  },
  {
   "cell_type": "code",
   "execution_count": 33,
   "id": "96436925",
   "metadata": {},
   "outputs": [
    {
     "data": {
      "text/plain": [
       "0.05072415888331724"
      ]
     },
     "execution_count": 33,
     "metadata": {},
     "output_type": "execute_result"
    }
   ],
   "source": [
    "MAE(dataY, findResultY(offsetDataX, beta0, beta1,beta2))"
   ]
  },
  {
   "cell_type": "markdown",
   "id": "72f68e0e",
   "metadata": {},
   "source": [
    "### Анализ всех данных"
   ]
  },
  {
   "cell_type": "code",
   "execution_count": 34,
   "id": "30e120ff",
   "metadata": {},
   "outputs": [],
   "source": [
    "dataFile = [\"gold_turn_00_0_15.txt\",\n",
    "           \"gold_turn_00_6_15.txt\",\n",
    "           \"gold_turn_01_15_15.txt\",\n",
    "           \"gold_turn_02_20_15.txt\",\n",
    "           \"gold_turn_02_23_15.txt\",\n",
    "           \"gold_turn_02_34_15.txt\",\n",
    "           \"gold_turn_02_46_15.txt\",\n",
    "           \"gold_turn_03_00_15.txt\",\n",
    "           \"gold_turn_05_0_15.txt\",\n",
    "           \"gold_turn_05_3_15.txt\",\n",
    "           \"gold_turn_05_6_15.txt\"]"
   ]
  },
  {
   "cell_type": "code",
   "execution_count": 35,
   "id": "8f232fd7",
   "metadata": {},
   "outputs": [
    {
     "name": "stdout",
     "output_type": "stream",
     "text": [
      "File = gold_turn_00_0_15.txt\n",
      "system correct\n",
      "system correct\n",
      "system correct\n",
      "Number of correct interval = 15\n",
      "Norm2 = 0.22842101078466634\n",
      "Equation = -5.163543 + -0.026581072232356284* x + 0.11735374950272665 * x^2\n"
     ]
    },
    {
     "data": {
      "image/png": "[encoded data removed]",
      "text/plain": [
       "<Figure size 432x288 with 1 Axes>"
      ]
     },
     "metadata": {
      "needs_background": "light"
     },
     "output_type": "display_data"
    },
    {
     "data": {
      "image/png": "[encoded data removed]",
      "text/plain": [
       "<Figure size 432x288 with 1 Axes>"
      ]
     },
     "metadata": {
      "needs_background": "light"
     },
     "output_type": "display_data"
    },
    {
     "name": "stdout",
     "output_type": "stream",
     "text": [
      "File = gold_turn_00_6_15.txt\n",
      "system correct\n",
      "system correct\n",
      "system correct\n",
      "Number of correct interval = 15\n",
      "Norm2 = 1.2693518741625065\n",
      "Equation = -170.00939734996155 + -4.724975539811652* x + 0.8385815118360357 * x^2\n"
     ]
    },
    {
     "data": {
      "image/png": "[encoded data removed]",
      "text/plain": [
       "<Figure size 432x288 with 1 Axes>"
      ]
     },
     "metadata": {
      "needs_background": "light"
     },
     "output_type": "display_data"
    },
    {
     "data": {
      "image/png": "[encoded data removed]",
      "text/plain": [
       "<Figure size 432x288 with 1 Axes>"
      ]
     },
     "metadata": {
      "needs_background": "light"
     },
     "output_type": "display_data"
    },
    {
     "name": "stdout",
     "output_type": "stream",
     "text": [
      "File = gold_turn_01_15_15.txt\n",
      "system correct\n",
      "system correct\n",
      "system correct\n",
      "Number of correct interval = 15\n",
      "Norm2 = 0.1061511239486712\n",
      "Equation = 1824.183 + 0.3755443519931645* x + -0.009665865276365277 * x^2\n"
     ]
    },
    {
     "data": {
      "image/png": "[encoded data removed]",
      "text/plain": [
       "<Figure size 432x288 with 1 Axes>"
      ]
     },
     "metadata": {
      "needs_background": "light"
     },
     "output_type": "display_data"
    },
    {
     "data": {
      "image/png": "[encoded data removed]",
      "text/plain": [
       "<Figure size 432x288 with 1 Axes>"
      ]
     },
     "metadata": {
      "needs_background": "light"
     },
     "output_type": "display_data"
    },
    {
     "name": "stdout",
     "output_type": "stream",
     "text": [
      "File = gold_turn_02_20_15.txt\n",
      "system correct\n",
      "system correct\n",
      "system correct\n",
      "Number of correct interval = 15\n",
      "Norm2 = 0.09191279218486875\n",
      "Equation = 495.765 + 0.4486705299407914* x + -0.044735368029727426 * x^2\n"
     ]
    },
    {
     "data": {
      "image/png": "[encoded data removed]",
      "text/plain": [
       "<Figure size 432x288 with 1 Axes>"
      ]
     },
     "metadata": {
      "needs_background": "light"
     },
     "output_type": "display_data"
    },
    {
     "data": {
      "image/png": "[encoded data removed]",
      "text/plain": [
       "<Figure size 432x288 with 1 Axes>"
      ]
     },
     "metadata": {
      "needs_background": "light"
     },
     "output_type": "display_data"
    },
    {
     "name": "stdout",
     "output_type": "stream",
     "text": [
      "File = gold_turn_02_23_15.txt\n",
      "the system is inconsistent\n",
      "File = gold_turn_02_34_15.txt\n",
      "system correct\n",
      "system correct\n",
      "system correct\n",
      "Number of correct interval = 15\n",
      "Norm2 = 0.12604953949907527\n",
      "Equation = 365.7132 + 0.016042314711219585* x + -0.027416265805832583 * x^2\n"
     ]
    },
    {
     "data": {
      "image/png": "[encoded data removed]",
      "text/plain": [
       "<Figure size 432x288 with 1 Axes>"
      ]
     },
     "metadata": {
      "needs_background": "light"
     },
     "output_type": "display_data"
    },
    {
     "data": {
      "image/png": "[encoded data removed]",
      "text/plain": [
       "<Figure size 432x288 with 1 Axes>"
      ]
     },
     "metadata": {
      "needs_background": "light"
     },
     "output_type": "display_data"
    },
    {
     "name": "stdout",
     "output_type": "stream",
     "text": [
      "File = gold_turn_02_46_15.txt\n",
      "system correct\n",
      "system correct\n",
      "system correct\n",
      "Number of correct interval = 15\n",
      "Norm2 = 0.0895110687567277\n",
      "Equation = 250.2806 + 0.4886527604759233* x + -0.05563492606069416 * x^2\n"
     ]
    },
    {
     "data": {
      "image/png": "[encoded data removed]",
      "text/plain": [
       "<Figure size 432x288 with 1 Axes>"
      ]
     },
     "metadata": {
      "needs_background": "light"
     },
     "output_type": "display_data"
    },
    {
     "data": {
      "image/png": "[encoded data removed]",
      "text/plain": [
       "<Figure size 432x288 with 1 Axes>"
      ]
     },
     "metadata": {
      "needs_background": "light"
     },
     "output_type": "display_data"
    },
    {
     "name": "stdout",
     "output_type": "stream",
     "text": [
      "File = gold_turn_03_00_15.txt\n",
      "system correct\n",
      "system correct\n",
      "system correct\n",
      "Number of correct interval = 15\n",
      "Norm2 = 1.8019750576479703\n",
      "Equation = 1.9460800000000003 + -0.17382687921244777* x + 2.279581142710806 * x^2\n"
     ]
    },
    {
     "data": {
      "image/png": "[encoded data removed]",
      "text/plain": [
       "<Figure size 432x288 with 1 Axes>"
      ]
     },
     "metadata": {
      "needs_background": "light"
     },
     "output_type": "display_data"
    },
    {
     "data": {
      "image/png": "[encoded data removed]",
      "text/plain": [
       "<Figure size 432x288 with 1 Axes>"
      ]
     },
     "metadata": {
      "needs_background": "light"
     },
     "output_type": "display_data"
    },
    {
     "name": "stdout",
     "output_type": "stream",
     "text": [
      "File = gold_turn_05_0_15.txt\n",
      "system correct\n",
      "system correct\n",
      "system correct\n",
      "Number of correct interval = 15\n",
      "Norm2 = 0.35188171366943505\n",
      "Equation = 189.5095 + 2.000123128099616* x + -0.20311473849409298 * x^2\n"
     ]
    },
    {
     "data": {
      "image/png": "[encoded data removed]",
      "text/plain": [
       "<Figure size 432x288 with 1 Axes>"
      ]
     },
     "metadata": {
      "needs_background": "light"
     },
     "output_type": "display_data"
    },
    {
     "data": {
      "image/png": "[encoded data removed]",
      "text/plain": [
       "<Figure size 432x288 with 1 Axes>"
      ]
     },
     "metadata": {
      "needs_background": "light"
     },
     "output_type": "display_data"
    },
    {
     "name": "stdout",
     "output_type": "stream",
     "text": [
      "File = gold_turn_05_3_15.txt\n",
      "system correct\n",
      "system correct\n",
      "system correct\n",
      "Number of correct interval = 15\n",
      "Norm2 = 0.3696838525399809\n",
      "Equation = -4.639218 + 0.4844917087207996* x + 0.2801025987760263 * x^2\n"
     ]
    },
    {
     "data": {
      "image/png": "[encoded data removed]",
      "text/plain": [
       "<Figure size 432x288 with 1 Axes>"
      ]
     },
     "metadata": {
      "needs_background": "light"
     },
     "output_type": "display_data"
    },
    {
     "data": {
      "image/png": "[encoded data removed]",
      "text/plain": [
       "<Figure size 432x288 with 1 Axes>"
      ]
     },
     "metadata": {
      "needs_background": "light"
     },
     "output_type": "display_data"
    },
    {
     "name": "stdout",
     "output_type": "stream",
     "text": [
      "File = gold_turn_05_6_15.txt\n",
      "system correct\n",
      "system correct\n",
      "system correct\n",
      "Number of correct interval = 15\n",
      "Norm2 = 0.06739843481436761\n",
      "Equation = 226.043 + 0.10709050033658107* x + -0.03094069521829091 * x^2\n"
     ]
    },
    {
     "data": {
      "image/png": "[encoded data removed]",
      "text/plain": [
       "<Figure size 432x288 with 1 Axes>"
      ]
     },
     "metadata": {
      "needs_background": "light"
     },
     "output_type": "display_data"
    },
    {
     "data": {
      "image/png": "[encoded data removed]",
      "text/plain": [
       "<Figure size 432x288 with 1 Axes>"
      ]
     },
     "metadata": {
      "needs_background": "light"
     },
     "output_type": "display_data"
    }
   ],
   "source": [
    "for i in range(len(dataFile)):\n",
    "    print(\"File = \" + dataFile[i])\n",
    "    dataX, dataY, dataEps = readData(dataFile[i], True)\n",
    "    offsetDataX = modifyX(dataX)\n",
    "    h_down, h_up = findBoundariesUncertainty(dataY, dataEps)\n",
    "    \n",
    "    beta0, beta1, beta2, error = findAllCoeff(offsetDataX, dataY, h_up, h_down)\n",
    "    \n",
    "    if error == 0:\n",
    "        correct, norm = check(offsetDataX, dataY, h_up, h_down, beta0, beta1, beta2)\n",
    "        print(\"Number of correct interval = \" + str(correct))\n",
    "        print(\"Norm2 = \" + str(norm))\n",
    "        print(\"Equation = \" + str(beta0) + \" + \" + str(beta1) + \"* x + \" + str(beta2) + \" * x^2\")\n",
    "        showResult(offsetDataX, dataY, beta0, beta1, beta2, h_up, h_down)"
   ]
  },
  {
   "cell_type": "code",
   "execution_count": 32,
   "id": "e994f360",
   "metadata": {},
   "outputs": [
    {
     "name": "stdout",
     "output_type": "stream",
     "text": [
      "File = gold_turn_02_23_15.txt\n",
      "Number of correct interval = 0\n",
      "Norm2 = 347.3187264470838\n",
      "Equation = -3593100.0 + 13708* x + -13.073 * x^2\n"
     ]
    },
    {
     "data": {
      "image/png": "[encoded data removed]",
      "text/plain": [
       "<Figure size 432x288 with 1 Axes>"
      ]
     },
     "metadata": {
      "needs_background": "light"
     },
     "output_type": "display_data"
    },
    {
     "data": {
      "image/png": "[encoded data removed]",
      "text/plain": [
       "<Figure size 432x288 with 1 Axes>"
      ]
     },
     "metadata": {
      "needs_background": "light"
     },
     "output_type": "display_data"
    }
   ],
   "source": [
    "#1\n",
    "#fileName = \"gold_turn_00_0_15.txt\"\n",
    "#2\n",
    "#fileName = \"gold_turn_00_6_15.txt\"\n",
    "#3\n",
    "#fileName = \"gold_turn_01_15_15.txt\"\n",
    "#4\n",
    "#fileName = \"gold_turn_02_20_15.txt\"\n",
    "#5\n",
    "#fileName = \"gold_turn_02_34_15.txt\"\n",
    "#6\n",
    "#fileName = \"gold_turn_02_46_15.txt\"\n",
    "#7\n",
    "#fileName = \"gold_turn_03_00_15.txt\"\n",
    "#8\n",
    "#fileName = \"gold_turn_05_0_15.txt\"\n",
    "#9\n",
    "#fileName = \"gold_turn_05_3_15.txt\"\n",
    "#10\n",
    "#fileName = \"gold_turn_05_6_15.txt\"\n",
    "\n",
    "#11\n",
    "fileName = \"gold_turn_02_23_15.txt\"\n",
    "\n",
    "\n",
    "\n",
    "print(\"File = \" + fileName)\n",
    "dataX, dataY, dataEps = readData(fileName, False)\n",
    "#offsetDataX = modifyX(dataX)\n",
    "h_down, h_up = findBoundariesUncertainty(dataY, dataEps)\n",
    " \n",
    "#beta0, beta1, beta2, error = findAllCoeff(offsetDataX, dataY, h_up, h_down)\n",
    "\n",
    "#1\n",
    "#beta0, beta1, beta2 =  887.68, -21.417, 0.12844\n",
    "#2\n",
    "#beta0, beta1, beta2 = 39387, -361.95, 0.8278\n",
    "#3\n",
    "#beta0, beta1, beta2 = -9450.2, -20.951, -0.0097\n",
    "#4\n",
    "#beta0, beta1, beta2 = -8058.1, 38.41, -0.0431\n",
    "#5\n",
    "#beta0, beta1, beta2 = -12268, 37.393, -0.0277\n",
    "#6\n",
    "#beta0, beta1, beta2 = -3935.2, 29.659, -0.052531\n",
    "#7\n",
    "#beta0, beta1, beta2 = 10557, -385.72, 3.5242\n",
    "#8\n",
    "#beta0, beta1, beta2 =  -1418.1, 34.683, -0.18648\n",
    "#9\n",
    "#beta0, beta1, beta2 = 16790, -145.98, 0.31723\n",
    "#10\n",
    "#beta0, beta1, beta2 =  -1019.1, 12.507, -0.0314\n",
    "\n",
    "#11\n",
    "beta0, beta1, beta2 =  -3.5931e+06, 13708, -13.073\n",
    "\n",
    "\n",
    "\n",
    "if error == 0:\n",
    "    correct, norm = check(dataX, dataY, h_up, h_down, beta0, beta1, beta2)\n",
    "    print(\"Number of correct interval = \" + str(correct))\n",
    "    print(\"Norm2 = \" + str(norm))\n",
    "    print(\"Equation = \" + str(beta0) + \" + \" + str(beta1) + \"* x + \" + str(beta2) + \" * x^2\")\n",
    "    showResult(dataX, dataY, beta0, beta1, beta2, h_up, h_down)"
   ]
  },
  {
   "cell_type": "code",
   "execution_count": null,
   "id": "abc5a176",
   "metadata": {},
   "outputs": [],
   "source": []
  }
 ],
 "metadata": {
  "kernelspec": {
   "display_name": "Python 3",
   "language": "python",
   "name": "python3"
  },
  "language_info": {
   "codemirror_mode": {
    "name": "ipython",
    "version": 3
   },
   "file_extension": ".py",
   "mimetype": "text/x-python",
   "name": "python",
   "nbconvert_exporter": "python",
   "pygments_lexer": "ipython3",
   "version": "3.8.8"
  }
 },
 "nbformat": 4,
 "nbformat_minor": 5
}

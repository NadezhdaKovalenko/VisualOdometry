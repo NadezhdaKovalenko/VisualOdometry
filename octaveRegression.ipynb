{
 "cells": [
  {
   "cell_type": "code",
   "execution_count": 2,
   "id": "fccb97f8",
   "metadata": {},
   "outputs": [],
   "source": [
    "pkg load interval"
   ]
  },
  {
   "cell_type": "code",
   "execution_count": 3,
   "id": "9a407718",
   "metadata": {},
   "outputs": [],
   "source": [
    "## Установить пути к функциям построения интервальной регрессии\n",
    "addpath(genpath('./m'))"
   ]
  },
  {
   "cell_type": "code",
   "execution_count": 4,
   "id": "0fc6d219",
   "metadata": {},
   "outputs": [
    {
     "name": "stdout",
     "output_type": "stream",
     "text": [
      "data =\n",
      "\n",
      "   85.5017   -4.5192    1.0000\n",
      "   85.1182   -4.6809    1.0000\n",
      "   84.7287   -4.8173    1.0000\n",
      "   84.3134   -4.9346    1.0000\n",
      "   83.8853   -5.0296    1.0000\n",
      "   83.4545   -5.1056    1.0000\n",
      "   83.0085   -5.1635    1.0000\n",
      "   85.8537   -4.3363    1.0000\n",
      "   86.2000   -4.1301    1.0000\n",
      "   86.5259   -3.9039    1.0000\n",
      "   86.8121   -3.6564    1.0000\n",
      "   87.0956   -3.3931    1.0000\n",
      "   87.3450   -3.1154    1.0000\n",
      "   87.5940   -2.8178    1.0000\n",
      "   87.8201   -2.5081    1.0000\n",
      "\n"
     ]
    }
   ],
   "source": [
    "# Чтение координат поворота из файла\n",
    "data = dlmread(\"gold_turn_00_0_15.txt\", \" \")"
   ]
  },
  {
   "cell_type": "code",
   "execution_count": 5,
   "id": "53958741",
   "metadata": {},
   "outputs": [
    {
     "name": "stdout",
     "output_type": "stream",
     "text": [
      "x =\n",
      "\n",
      "   85.502\n",
      "   85.118\n",
      "   84.729\n",
      "   84.313\n",
      "   83.885\n",
      "   83.455\n",
      "   83.008\n",
      "   85.854\n",
      "   86.200\n",
      "   86.526\n",
      "   86.812\n",
      "   87.096\n",
      "   87.345\n",
      "   87.594\n",
      "   87.820\n",
      "\n",
      "y =\n",
      "\n",
      "  -4.5192\n",
      "  -4.6809\n",
      "  -4.8173\n",
      "  -4.9346\n",
      "  -5.0296\n",
      "  -5.1056\n",
      "  -5.1635\n",
      "  -4.3363\n",
      "  -4.1301\n",
      "  -3.9039\n",
      "  -3.6564\n",
      "  -3.3931\n",
      "  -3.1154\n",
      "  -2.8178\n",
      "  -2.5081\n",
      "\n",
      "eps =\n",
      "\n",
      "   1\n",
      "   1\n",
      "   1\n",
      "   1\n",
      "   1\n",
      "   1\n",
      "   1\n",
      "   1\n",
      "   1\n",
      "   1\n",
      "   1\n",
      "   1\n",
      "   1\n",
      "   1\n",
      "   1\n",
      "\n",
      "X =\n",
      "\n",
      "      1.0000     85.5017   7310.5424\n",
      "      1.0000     85.1182   7245.1080\n",
      "      1.0000     84.7287   7178.9509\n",
      "      1.0000     84.3134   7108.7460\n",
      "      1.0000     83.8853   7036.7436\n",
      "      1.0000     83.4545   6964.6602\n",
      "      1.0000     83.0085   6890.4044\n",
      "      1.0000     85.8537   7370.8630\n",
      "      1.0000     86.2000   7430.4417\n",
      "      1.0000     86.5259   7486.7279\n",
      "      1.0000     86.8121   7536.3407\n",
      "      1.0000     87.0956   7585.6401\n",
      "      1.0000     87.3450   7629.1543\n",
      "      1.0000     87.5940   7672.7106\n",
      "      1.0000     87.8201   7712.3700\n",
      "\n",
      "lb =\n",
      "\n",
      "  -Inf     0     0\n",
      "\n",
      "irp_steam =\n",
      "\n",
      "  scalar structure containing the fields:\n",
      "\n",
      "    X =\n",
      "\n",
      "          1.0000     85.5017   7310.5424\n",
      "          1.0000     85.1182   7245.1080\n",
      "          1.0000     84.7287   7178.9509\n",
      "          1.0000     84.3134   7108.7460\n",
      "          1.0000     83.8853   7036.7436\n",
      "          1.0000     83.4545   6964.6602\n",
      "          1.0000     83.0085   6890.4044\n",
      "          1.0000     85.8537   7370.8630\n",
      "          1.0000     86.2000   7430.4417\n",
      "          1.0000     86.5259   7486.7279\n",
      "          1.0000     86.8121   7536.3407\n",
      "          1.0000     87.0956   7585.6401\n",
      "          1.0000     87.3450   7629.1543\n",
      "          1.0000     87.5940   7672.7106\n",
      "          1.0000     87.8201   7712.3700\n",
      "\n",
      "    y =\n",
      "\n",
      "      -4.5192\n",
      "      -4.6809\n",
      "      -4.8173\n",
      "      -4.9346\n",
      "      -5.0296\n",
      "      -5.1056\n",
      "      -5.1635\n",
      "      -4.3363\n",
      "      -4.1301\n",
      "      -3.9039\n",
      "      -3.6564\n",
      "      -3.3931\n",
      "      -3.1154\n",
      "      -2.8178\n",
      "      -2.5081\n",
      "\n",
      "    epsilon =\n",
      "\n",
      "       1\n",
      "       1\n",
      "       1\n",
      "       1\n",
      "       1\n",
      "       1\n",
      "       1\n",
      "       1\n",
      "       1\n",
      "       1\n",
      "       1\n",
      "       1\n",
      "       1\n",
      "       1\n",
      "       1\n",
      "\n",
      "    lb =\n",
      "\n",
      "      -Inf     0     0\n",
      "\n",
      "    ub =\n",
      "\n",
      "       Inf   Inf   Inf\n",
      "\n",
      "    C = [](0x0)\n",
      "    d = [](0x0)\n",
      "    ctype = [](0x0)\n",
      "\n"
     ]
    }
   ],
   "source": [
    "x = data(:,1)                             # координата поворота по х\n",
    "y = data(:,2)                             # координата поворота по у\n",
    "eps = data(:,3)                           # верхняя граница ошибки для y_i\n",
    "\n",
    "# x^2 + x^1 + x^0\n",
    "X = [ x.^0 x x.^2 ]                       # матрица значений переменных при beta1, beta2, beta3        \n",
    "lb = [-inf 0 0]                           # нижние границы beta1, beta2, beta3\n",
    "\n",
    "# x^1 + x^0\n",
    "#X = [ x.^0 x ]                           # матрица значений переменных при beta1 и beta2\n",
    "#lb = [-inf 0 ]                           # нижние границы beta1 и beta2\n",
    "\n",
    "\n",
    "irp_steam = ir_problem(X, y, eps, lb)     # создание переменной, содержащей описание задачи \n",
    "                                              #               построения интервальной регрессии "
   ]
  },
  {
   "cell_type": "code",
   "execution_count": 6,
   "id": "108a6859",
   "metadata": {},
   "outputs": [
    {
     "data": {
      "image/png": "[encoded data removed]",
      "text/plain": [
       "<IPython.core.display.Image object>"
      ]
     },
     "metadata": {},
     "output_type": "display_data"
    }
   ],
   "source": [
    "## График интервальных измерений\n",
    "figure\n",
    "ir_scatter(irp_steam);   \n",
    "set(gca, 'fontsize', 12)\n",
    "title('Turn coordinates of object');\n",
    "xlabel('');\n",
    "ylabel('');"
   ]
  },
  {
   "cell_type": "code",
   "execution_count": 7,
   "id": "5e8b384f",
   "metadata": {},
   "outputs": [
    {
     "name": "stdout",
     "output_type": "stream",
     "text": [
      "Size = 15\n",
      "Size = 3\n",
      "70\n",
      "xymin = -82.701859\n",
      "xymin = -0.000000\n",
      "xymin = -0.000000\n",
      "xymax = -9.670970\n",
      "xymax = 0.922054\n",
      "xymax = 0.005423\n",
      "d = 7.303089\n",
      "d = 0.092205\n",
      "d = 0.000542\n",
      "xymin new = -90.004948\n",
      "xymin new = -0.092205\n",
      "xymin new = -0.000542\n",
      "xymax new = -2.367881\n",
      "xymax new = 1.014260\n",
      "xymax new = 0.005966\n"
     ]
    },
    {
     "data": {
      "image/png": "[encoded data removed]",
      "text/plain": [
       "<IPython.core.display.Image object>"
      ]
     },
     "metadata": {},
     "output_type": "display_data"
    }
   ],
   "source": [
    "# Графическое представление информационного множества\n",
    "ir_plotbeta(irp_steam)\n",
    "grid on\n",
    "set(gca, 'fontsize', 12)\n",
    "xlabel('\\beta_1')\n",
    "ylabel('\\beta_2')\n",
    "title('Information set')"
   ]
  },
  {
   "cell_type": "code",
   "execution_count": 8,
   "id": "a7385572",
   "metadata": {},
   "outputs": [
    {
     "name": "stdout",
     "output_type": "stream",
     "text": [
      "vertices =\n",
      "\n",
      "  -8.2702e+01   9.2205e-01  -4.3368e-19\n",
      "  -7.7720e+01   8.6467e-01  -4.3368e-19\n",
      "  -7.0698e+01   6.3917e-01   1.6658e-03\n",
      "  -6.2971e+01   6.9421e-01  -4.3368e-19\n",
      "  -5.4473e+01   5.9563e-01  -4.3368e-19\n",
      "  -5.1974e+01   5.5187e-01  -4.3368e-19\n",
      "  -4.7931e+01   5.1943e-01  -4.3368e-19\n",
      "  -4.3532e+01  -1.3553e-20   5.4233e-03\n",
      "  -4.2909e+01  -1.3553e-20   5.3411e-03\n",
      "  -4.0250e+01  -1.3553e-20   4.9884e-03\n",
      "  -3.9579e+01   4.2175e-01  -4.3368e-19\n",
      "  -3.3479e+01   3.5008e-01  -4.3368e-19\n",
      "  -3.2994e+01  -1.3553e-20   4.0192e-03\n",
      "  -2.8853e+01  -1.3553e-20   3.4619e-03\n",
      "  -2.8423e+01  -1.3553e-20   3.2306e-03\n",
      "  -2.7759e+01   2.8256e-01  -4.3368e-19\n",
      "  -2.5680e+01  -1.3553e-20   3.0313e-03\n",
      "  -2.2628e+01   2.2171e-01  -4.3368e-19\n",
      "  -2.1590e+01  -1.3553e-20   2.4719e-03\n",
      "  -1.8841e+01   1.7657e-01  -4.3368e-19\n",
      "  -1.8614e+01  -1.3553e-20   2.0611e-03\n",
      "  -1.5817e+01  -1.3553e-20   1.6716e-03\n",
      "  -1.5527e+01   1.3686e-01  -4.3368e-19\n",
      "  -1.3305e+01  -1.3553e-20   1.3182e-03\n",
      "  -1.1455e+01  -1.3553e-20   1.0552e-03\n",
      "  -9.6710e+00  -1.3553e-20   7.9908e-04\n",
      "\n",
      "rhoB =  73.037\n",
      "b1 =\n",
      "\n",
      "  -9.6710e+00  -1.3553e-20   7.9908e-04\n",
      "\n",
      "b2 =\n",
      "\n",
      "  -8.2702e+01   9.2205e-01  -4.3368e-19\n",
      "\n"
     ]
    }
   ],
   "source": [
    "## Вершины информационного множества задачи построения интервальной регрессии\n",
    "vertices = ir_beta2poly(irp_steam)\n",
    "\n",
    "## Диаметр и наиболее удаленные вершины информационного множества \n",
    "[rhoB, b1, b2] = ir_betadiam(irp_steam)"
   ]
  },
  {
   "cell_type": "code",
   "execution_count": 27,
   "id": "ad57499e",
   "metadata": {},
   "outputs": [
    {
     "name": "stdout",
     "output_type": "stream",
     "text": [
      "b_int =\n",
      "\n",
      "  -173.60218    -3.68094\n",
      "     0.00000     1.97280\n",
      "     0.00000     0.01149\n",
      "\n"
     ]
    }
   ],
   "source": [
    "## Внешние интервальние оценки параметров модели y = beta1 + beta2 * x \n",
    "b_int = ir_outer(irp_steam)\n"
   ]
  },
  {
   "cell_type": "code",
   "execution_count": 28,
   "id": "2c60b9d8",
   "metadata": {},
   "outputs": [
    {
     "name": "stdout",
     "output_type": "stream",
     "text": [
      "b_maxdiag =\n",
      "\n",
      "  -88.64156    0.98640    0.00000\n",
      "\n",
      "b_gravity =\n",
      "\n",
      "  -47.6330248    0.3397031    0.0019781\n",
      "\n",
      "b_lsm =\n",
      "\n",
      "   878.29809   -21.12099     0.12626\n",
      "\n"
     ]
    }
   ],
   "source": [
    "## Точечные оценки параметров \n",
    "b_maxdiag = (b1 + b2) / 2    # как середина наибольшей диагонали информационного множества\n",
    "\n",
    "b_gravity = mean(vertices)   # как центр тяжести информационного множества \n",
    "\n",
    "b_lsm = (X \\ y)'             # методом наименьших квадратов"
   ]
  },
  {
   "cell_type": "code",
   "execution_count": 29,
   "id": "d35b62c8",
   "metadata": {},
   "outputs": [
    {
     "name": "stdout",
     "output_type": "stream",
     "text": [
      "Size = 3\n",
      "error: beta must be 2 x 2 matrix\n",
      "error: called from\n",
      "    ir_plotrect at line 37 column 3\n"
     ]
    },
    {
     "data": {
      "image/png": "[encoded data removed]",
      "text/plain": [
       "<IPython.core.display.Image object>"
      ]
     },
     "metadata": {},
     "output_type": "display_data"
    }
   ],
   "source": [
    "## Графическое представление внешней интервальной оценки информационного множества\n",
    "figure(1, 'position',[0, 0, 800, 600]);\n",
    "ir_plotbeta(irp_steam)\n",
    "hold on\n",
    "ir_plotrect(b_int,'r-')\n",
    "grid on\n",
    "set(gca, 'fontsize', 12)\n",
    "xlabel('\\beta_1')\n",
    "ylabel('\\beta_2')\n",
    "title('Information set')\n",
    "\n",
    "## Точечные оценки\n",
    "plot(b_maxdiag(1), b_maxdiag(2), 'ro')\n",
    "plot(b_gravity(1), b_gravity(2), 'k+')\n",
    "plot(b_lsm(1), b_lsm(2), 'gx')"
   ]
  },
  {
   "cell_type": "code",
   "execution_count": 30,
   "id": "d8b427e8",
   "metadata": {},
   "outputs": [
    {
     "name": "stdout",
     "output_type": "stream",
     "text": [
      "error: Wrong X size\n",
      "error: called from\n",
      "    ir_plotmodelset at line 67 column 8\n",
      "error: Wrong dimension of beta\n",
      "error: called from\n",
      "    ir_plotline at line 33 column 3\n"
     ]
    },
    {
     "data": {
      "image/png": "[encoded data removed]",
      "text/plain": [
       "<IPython.core.display.Image object>"
      ]
     },
     "metadata": {},
     "output_type": "display_data"
    }
   ],
   "source": [
    "## Графическое представление коридора совместных зависимостей для модели y = beta1 + beta2 * x\n",
    "figure(1, 'position',[0, 0, 800, 600]);\n",
    "xlimits = [0 0];\n",
    "ir_plotmodelset(irp_steam, xlimits)     # коридор совместных зависимостей\n",
    "hold on\n",
    "ir_scatter(irp_steam,'bo')              # интервальные измерения\n",
    "ir_plotline(b_maxdiag, xlimits, 'r-')   # зависимость с параметрами, оцененными как центр наибольшей диагонали ИМ\n",
    "#ir_plotline(b_gravity, xlim, 'b--')     # зависимость с параметрами, оцененными как центр тяжести ИМ  \n",
    "#ir_plotline(b_lsm, xlim, 'b--')         # зависимость с параметрами, оцененными МНК\n",
    "#ir_scatter(ir_problem(Xp,ypmid,yprad),'ro')\n",
    "\n",
    "grid on\n",
    "set(gca, 'fontsize', 12)\n",
    "xlabel('Fuel consumtion')\n",
    "ylabel('Steam quantity')\n",
    "title('Set of models compatible with data and constraints')"
   ]
  },
  {
   "cell_type": "code",
   "execution_count": 17,
   "id": "b6195ad1",
   "metadata": {},
   "outputs": [
    {
     "name": "stdout",
     "output_type": "stream",
     "text": [
      "yp0 =\n",
      "\n",
      "  -5.4692  -3.5192\n",
      "  -5.6809  -3.6809\n",
      "  -5.2749  -3.3363\n",
      "  -5.0838  -3.1301\n",
      "  -4.9039  -2.9039\n",
      "\n",
      "yp0mid =\n",
      "\n",
      "  -4.4942\n",
      "  -4.6809\n",
      "  -4.3056\n",
      "  -4.1069\n",
      "  -3.9039\n",
      "\n",
      "yp0rad =\n",
      "\n",
      "   0.97502\n",
      "   1.00000\n",
      "   0.96928\n",
      "   0.97683\n",
      "   1.00000\n",
      "\n",
      "yp0rad_rel =\n",
      "\n",
      "  -21.695\n",
      "  -21.363\n",
      "  -22.512\n",
      "  -23.785\n",
      "  -25.616\n",
      "\n"
     ]
    }
   ],
   "source": [
    "## Значения y, предсказанные с помощью модели y = beta1 + beta2 * x в точках эксперимента\n",
    "yp0 = ir_predict(X, irp_steam)       # интервальный прогноз значений y в точках x\n",
    "\n",
    "yp0mid = mean(yp0,2)                 # средние значения прогнозных интервалов\n",
    "yp0rad = 0.5 * (yp0(:,2) - yp0(:,1)) # радиус прогнозных интервалов\n",
    "\n",
    "yp0rad_rel = 100 * yp0rad ./ yp0mid  # относительная величина неопределенности прогнозов в процентах"
   ]
  },
  {
   "cell_type": "code",
   "execution_count": 18,
   "id": "5cdde341",
   "metadata": {},
   "outputs": [
    {
     "name": "stdout",
     "output_type": "stream",
     "text": [
      "xp =\n",
      "\n",
      "   10.000\n",
      "   15.000\n",
      "   17.500\n",
      "   22.500\n",
      "\n",
      "yp =\n",
      "\n",
      "  -153.8742    -3.6809\n",
      "  -144.0102    -3.6809\n",
      "  -139.0782    -3.6809\n",
      "  -129.2142    -3.6809\n",
      "\n",
      "ypmid =\n",
      "\n",
      "  -78.778\n",
      "  -73.846\n",
      "  -71.380\n",
      "  -66.448\n",
      "\n",
      "yprad =\n",
      "\n",
      "   75.097\n",
      "   70.165\n",
      "   67.699\n",
      "   62.767\n",
      "\n",
      "yprad_relative =\n",
      "\n",
      "  -95.327\n",
      "  -95.015\n",
      "  -94.843\n",
      "  -94.460\n",
      "\n"
     ]
    }
   ],
   "source": [
    "## Значения y, предсказанные с помощью модели y = beta1 + beta2 * x\n",
    "xp = [10; 15; 17.5; 22.5]\n",
    "Xp = [xp.^0 xp];\n",
    "\n",
    "yp = ir_predict(Xp, irp_steam)         # интервальный прогноз значений y в точках xp\n",
    "ypmid = mean(yp,2)                     # средние значения прогнозных интервалов\n",
    "yprad = 0.5 * (yp(:,2) - yp(:,1))      # радиус прогнозных интервалов\n",
    "\n",
    "yprad_relative = 100 * yprad ./ ypmid  # относительная величина неопределенности прогнозов в процентах"
   ]
  },
  {
   "cell_type": "code",
   "execution_count": 19,
   "id": "42efa7a7",
   "metadata": {},
   "outputs": [
    {
     "data": {
      "image/png": "[encoded data removed]",
      "text/plain": [
       "<IPython.core.display.Image object>"
      ]
     },
     "metadata": {},
     "output_type": "display_data"
    }
   ],
   "source": [
    "## Коридор совместных зависимостей для модели y = beta2 * x\n",
    "ir_plotmodelset(irp_steam,xlimits)\n",
    "grid on\n",
    "hold on\n",
    "ir_scatter(irp_steam,'bo')\n",
    "ir_scatter(ir_problem(Xp,ypmid,yprad),'r.')\n",
    "xlabel('Fuel consumtion')\n",
    "ylabel('Steam quantity')\n",
    "title('Set of models compatible with data and constraints')"
   ]
  },
  {
   "cell_type": "code",
   "execution_count": 20,
   "id": "c4cf2d40",
   "metadata": {},
   "outputs": [
    {
     "name": "stdout",
     "output_type": "stream",
     "text": [
      "lb = 0\n",
      "irp_steam2 =\n",
      "\n",
      "  scalar structure containing the fields:\n",
      "\n",
      "    X =\n",
      "\n",
      "       85.502\n",
      "       85.118\n",
      "       85.854\n",
      "       86.200\n",
      "       86.526\n",
      "\n",
      "    y =\n",
      "\n",
      "      -4.5192\n",
      "      -4.6809\n",
      "      -4.3363\n",
      "      -4.1301\n",
      "      -3.9039\n",
      "\n",
      "    epsilon =\n",
      "\n",
      "       1\n",
      "       1\n",
      "       1\n",
      "       1\n",
      "       1\n",
      "\n",
      "    lb = 0\n",
      "    ub =  Inf\n",
      "    C = [](0x0)\n",
      "    d = [](0x0)\n",
      "    ctype = [](0x0)\n",
      "\n",
      "b_int2 = [](0x0)\n",
      "error: b_int2(2): out of bound 0\n",
      "b_mid2 =  NaN\n",
      "b_lsm2 = -0.050237\n",
      "error: 'b_rad2' undefined near line 1 column 20\n"
     ]
    }
   ],
   "source": [
    "## Определить задачу интервальной регрессии y = beta2 * x с ограничением beta2 >= 0\n",
    "lb = [0]\n",
    "irp_steam2 = ir_problem(x, y, eps, lb)   # описание задачи интервальной регрессии\n",
    "\n",
    "## Внешняя интервальная оценка параметра модели y = beta2 * x \n",
    "b_int2 = ir_outer(irp_steam2)          # интервальная оценка \n",
    "b_rad2 = 0.5 * (b_int2(2) - b_int2(1)) # ширина интервальной оценки\n",
    "b_mid2 = mean(b_int2)                  # центр интервала как точечная оценка параметра beta2\n",
    "\n",
    "## Оценка параметра beta2 методом наименьших квадратов\n",
    "b_lsm2 = x \\ y  \n",
    "\n",
    "b_rad2_rel = 100 * b_rad2 / b_mid2     # относительная точность оценки параметра в процентах"
   ]
  },
  {
   "cell_type": "code",
   "execution_count": 21,
   "id": "16152281",
   "metadata": {},
   "outputs": [
    {
     "name": "stdout",
     "output_type": "stream",
     "text": [
      "xp =\n",
      "\n",
      "   12\n",
      "   16\n",
      "   20\n",
      "\n",
      "yp2 =\n",
      "\n",
      "    NA   NaN\n",
      "    NA   NaN\n",
      "    NA   NaN\n",
      "\n",
      "yp2mid =\n",
      "\n",
      "    NA\n",
      "    NA\n",
      "    NA\n",
      "\n",
      "yp2rad =\n",
      "\n",
      "   NaN\n",
      "   NaN\n",
      "   NaN\n",
      "\n",
      "yp2rad_rel =\n",
      "\n",
      "   NaN\n",
      "   NaN\n",
      "   NaN\n",
      "\n"
     ]
    }
   ],
   "source": [
    "## Значения y, предсказанные с помощью модели y = beta2 * x\n",
    "xp = [12; 16; 20] \n",
    "yp2 = ir_predict(xp, irp_steam2)      # интервальный прогноз значений y в точках xp\n",
    "yp2mid = mean(yp2,2)                  # средние значения прогнозных интервалов\n",
    "yp2rad = 0.5 * (yp2(:,2) - yp2(:,1))  # радиус прогнозных интервалов\n",
    "\n",
    "yp2rad_rel = yp2rad ./ yp2mid         # относительная величина неопределенности прогнозов в процентах"
   ]
  },
  {
   "cell_type": "code",
   "execution_count": 22,
   "id": "63cd7c8a",
   "metadata": {},
   "outputs": [
    {
     "data": {
      "image/png": "[encoded data removed]",
      "text/plain": [
       "<IPython.core.display.Image object>"
      ]
     },
     "metadata": {},
     "output_type": "display_data"
    }
   ],
   "source": [
    "## Коридор совместных зависимостей для модели y = beta2 * x\n",
    "ir_plotmodelset(irp_steam2,xlimits)\n",
    "grid on\n",
    "hold on\n",
    "ir_scatter(irp_steam2,'bo')\n",
    "ir_scatter(ir_problem(xp,yp2mid,yp2rad),'r.')\n",
    "xlabel('Fuel consumtion')\n",
    "ylabel('Steam quantity')\n",
    "title('Set of models compatible with data and constraints')"
   ]
  },
  {
   "cell_type": "code",
   "execution_count": null,
   "id": "5dda50be",
   "metadata": {},
   "outputs": [],
   "source": []
  }
 ],
 "metadata": {
  "kernelspec": {
   "display_name": "Octave",
   "language": "octave",
   "name": "octave"
  },
  "language_info": {
   "file_extension": ".m",
   "help_links": [
    {
     "text": "GNU Octave",
     "url": "https://www.gnu.org/software/octave/support.html"
    },
    {
     "text": "Octave Kernel",
     "url": "https://github.com/Calysto/octave_kernel"
    },
    {
     "text": "MetaKernel Magics",
     "url": "https://metakernel.readthedocs.io/en/latest/source/README.html"
    }
   ],
   "mimetype": "text/x-octave",
   "name": "octave",
   "version": "5.2.0"
  }
 },
 "nbformat": 4,
 "nbformat_minor": 5
}
